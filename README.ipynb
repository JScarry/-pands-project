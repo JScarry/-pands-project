{
 "cells": [
  {
   "cell_type": "markdown",
   "id": "08c544e7",
   "metadata": {},
   "source": [
    "# Readme file for the pands-project 2022\n",
    "## Author: Jarlath Scarry\n",
    "\n",
    "This readme file and the assosciated files and code make up my submission for the pands-project in the 2022 programing and scripting module\n"
   ]
  },
  {
   "cell_type": "markdown",
   "id": "05a4cfc0",
   "metadata": {},
   "source": [
    "# Project Plan: \n",
    "\n",
    "1. Research the data set online and write a summary (week8)\n",
    "wnload the data set and add it to my repository. (week8)\n",
    "\n",
    "3. Create the program analysis.py (week8)\n",
    "\n",
    "3. Write some simple programs to import the data and display it visually (Week9)\n",
    "\n",
    "4. Create a plan of what analysis I would like to arry out on the data  (week10+11)\n",
    "        Take some outputs and send them to txt files\n",
    "        Generate some charts from the analysis to help visualise.(week12)\n",
    "            Examples:\n",
    "            Outputs a scatter plot of each pair of variables.  \n",
    "            Saves a histogram of each variable to png files.\n",
    "            \n",
    "5. Put the above steps together in the program analysis.py (week12+13)\n",
    "            \n",
    "6. Perform other analysis.\n",
    "            Maybe try to predict something. Which flower type?\n",
    "7. Revisit summary and write a conclusion     (week13)"
   ]
  },
  {
   "cell_type": "markdown",
   "id": "5ed73793",
   "metadata": {},
   "source": [
    "## Iris Data set\n",
    "## A short summary"
   ]
  },
  {
   "cell_type": "markdown",
   "id": "fc96693f",
   "metadata": {},
   "source": [
    "## What is the Iris Data set?\n",
    "The Fisher’s Iris Data set is a data set introduced by the British Biologist and Statistician Ronald Fisher in his now classic 1936 paper “The use of multiple measurements in taxonomic problems as an example of linear discriminant analysis”. It is sometimes known as the Anderson’s Iris data set because the data was collected by Edgar Anderson, who collected the majority of the data in the Gaspé Peninsula, in North Eastern Canada.\n",
    " It is a multivariate data set, meaning it has a number of mathematical or statistical variables. The data set consists of 50 samples from each of three species of Iris. Four features were measured from each sample, so a total of 150 instances with five attributes which are detailed below.\n",
    "\n",
    "Attributes: \n",
    "1.\tSepal length in cm\n",
    "\n",
    "2.\tSepal width in cm\n",
    "\n",
    "3.\tPetal length in cm\n",
    "\n",
    "4.\tPetal width in cm\n",
    "\n",
    "5.\tClass / Species:\n",
    "    -- Iris Setosa\n",
    "    -- Iris Versicolor\n",
    "    -- Iris Virginica\n",
    "\n",
    "The Iris data set is often used when studying data because the data and many related resources are readily available to us. The data is open source and its accuracy and its source are known, It is relatively small in size, It is divided into 3 classes and It is easily visualised. Additionally Ronald Fisher was a very prominent figures in statistics. All these factors mean it has become very popular in data science.  \n",
    "\n",
    "One flower species is linearly separable from the other two, but the other two are not linearly separable from each other.\n",
    "\n",
    "https://www.kaggle.com/uciml/iris\n",
    "\n",
    "Much of the information about the dataset in this section is collected from the following locations:\n",
    "\n",
    "Wikipedia - Iris flower data set https://en.wikipedia.org/wiki/Iris_flower_data_set\n",
    "\n",
    "UCI Machine Learning Repository https://archive.ics.uci.edu/ml/datasets/iris\n",
    "\n",
    "About Fisher’s Iris dataset https://www.angela1c.com/projects/iris_project/the-iris-dataset/\n",
    "\n",
    "The Mighty Iris Dataset https://braintoy.ai/2021/04/19/mighty-iris-dataset/\n",
    "\n",
    "These resources give references to the work of Fisher and Anderson.\n"
   ]
  },
  {
   "cell_type": "code",
   "execution_count": null,
   "id": "4fa3f0aa",
   "metadata": {},
   "outputs": [],
   "source": []
  }
 ],
 "metadata": {
  "kernelspec": {
   "display_name": "Python 3 (ipykernel)",
   "language": "python",
   "name": "python3"
  },
  "language_info": {
   "codemirror_mode": {
    "name": "ipython",
    "version": 3
   },
   "file_extension": ".py",
   "mimetype": "text/x-python",
   "name": "python",
   "nbconvert_exporter": "python",
   "pygments_lexer": "ipython3",
   "version": "3.9.7"
  }
 },
 "nbformat": 4,
 "nbformat_minor": 5
}
